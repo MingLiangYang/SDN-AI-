{
 "cells": [
  {
   "cell_type": "code",
   "execution_count": 6,
   "metadata": {},
   "outputs": [
    {
     "name": "stdout",
     "output_type": "stream",
     "text": [
      "8379312\n"
     ]
    }
   ],
   "source": [
    "with open(\"data.txt\",\"r\") as f_data,open(\"cpu.txt\",\"r\") as f_cpu,open(\"data\",\"a+\") as f_out:\n",
    "    line_cpu=f_cpu.readline()\n",
    "    line_data=f_data.readline()\n",
    "    i=0\n",
    "    while line_data : \n",
    "        while line_cpu and line_cpu.split(\" \",1)[0]<line_data.split(\" \",1)[0]:\n",
    "            line_cpu=f_cpu.readline()\n",
    "        if len(line_cpu)==0:\n",
    "            break\n",
    "        f_out.write(line_data[:-1]+line_cpu.split(\" \",1)[1]+\"\\n\")\n",
    "        line_data = f_data.readline() \n",
    "        i=i+1\n",
    "    print(i)"
   ]
  },
  {
   "cell_type": "code",
   "execution_count": 4,
   "metadata": {},
   "outputs": [],
   "source": [
    "#处理cpu memory数据\n",
    "cpu_f=open(\"cpu.txt\", 'a')\n",
    "time=\"\"\n",
    "cpu=0.0\n",
    "memory=0.0\n",
    "yuan_f=open(\"cpu_memory_data\",\"r\",encoding='UTF-8')\n",
    "line = yuan_f.readline()             # 调用文件的 readline()方法  \n",
    "i=0;\n",
    "while line:  \n",
    "    if len(line.split())==1:\n",
    "        if i>0:\n",
    "            cpu_f.write(time[:-1]+\" \"+str(cpu)+\" \"+str(memory)+\"\\n\")\n",
    "            cpu=0.0\n",
    "            memory=0.0\n",
    "        time=line\n",
    "    else:\n",
    "        items=line.split()\n",
    "        cpu=cpu+float(items[0])\n",
    "        memory=memory+float(items[1])\n",
    "    line = yuan_f.readline()  \n",
    "    i=i+1\n",
    "cpu_f.close()\n",
    "yuan_f.close()"
   ]
  },
  {
   "cell_type": "code",
   "execution_count": 5,
   "metadata": {},
   "outputs": [],
   "source": [
    "data_f=open(\"data.txt\",\"a\")\n",
    "yuanDip=open(\"my.txt\",\"r\", encoding='UTF-8',errors='ignore')\n",
    "line = yuanDip.readline()             # 调用文件的 readline()方法  \n",
    "i=0;\n",
    "while line:  \n",
    "    if len(line.split(\"Gary:\"))>1:\n",
    "        items=line.split(\"Gary: \")[1].split()\n",
    "        data_f.write(line.split(\"Gary: \")[1]);\n",
    "    line = yuanDip.readline() \n",
    "    i=i+1\n",
    "data_f.close()\n",
    "yuanDip.close()"
   ]
  },
  {
   "cell_type": "code",
   "execution_count": null,
   "metadata": {},
   "outputs": [],
   "source": []
  }
 ],
 "metadata": {
  "kernelspec": {
   "display_name": "Python 3",
   "language": "python",
   "name": "python3"
  },
  "language_info": {
   "codemirror_mode": {
    "name": "ipython",
    "version": 3
   },
   "file_extension": ".py",
   "mimetype": "text/x-python",
   "name": "python",
   "nbconvert_exporter": "python",
   "pygments_lexer": "ipython3",
   "version": "3.6.4"
  }
 },
 "nbformat": 4,
 "nbformat_minor": 2
}
